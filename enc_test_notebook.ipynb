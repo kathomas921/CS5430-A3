{
 "cells": [
  {
   "cell_type": "code",
   "execution_count": 24,
   "metadata": {
    "collapsed": false
   },
   "outputs": [],
   "source": [
    "import time\n",
    "import json\n",
    "import base64\n",
    "import Crypto.Random.random as cryptrand\n",
    "from IMCrypt import AsymmetricIMCrypto, SymmetricIMCrypto, SymmetricIMSigner"
   ]
  },
  {
   "cell_type": "code",
   "execution_count": 36,
   "metadata": {
    "collapsed": false
   },
   "outputs": [],
   "source": [
    "Q = str(bytearray([cryptrand.getrandbits(8) for i in xrange(0,16)]))"
   ]
  },
  {
   "cell_type": "code",
   "execution_count": 44,
   "metadata": {
    "collapsed": true
   },
   "outputs": [],
   "source": [
    "AliceAsym = AsymmetricIMCrypto('Keys/Public/Bob_public_key.txt','Keys/Alice_private_key.txt')"
   ]
  },
  {
   "cell_type": "code",
   "execution_count": 3,
   "metadata": {
    "collapsed": true
   },
   "outputs": [],
   "source": [
    "BobAsym = AsymmetricIMCrypto('Keys/Public/Alice_public_key.txt','Keys/Bob_private_key.txt')"
   ]
  },
  {
   "cell_type": "code",
   "execution_count": 32,
   "metadata": {
    "collapsed": true
   },
   "outputs": [],
   "source": [
    "SymCrypt = SymmetricIMCrypto(str(bytearray([cryptrand.getrandbits(8) for i in xrange(0,16)])))"
   ]
  },
  {
   "cell_type": "code",
   "execution_count": 5,
   "metadata": {
    "collapsed": true
   },
   "outputs": [],
   "source": [
    "SymSign = SymmetricIMSigner('Bixteen byte key')"
   ]
  },
  {
   "cell_type": "code",
   "execution_count": 46,
   "metadata": {
    "collapsed": false
   },
   "outputs": [
    {
     "data": {
      "text/plain": [
       "'.\\xe7\\x08\\x9c\\xa9\\x1b\\x92%\\xea\\xc9\\x01\\x91?@k\\xb5'"
      ]
     },
     "execution_count": 46,
     "metadata": {},
     "output_type": "execute_result"
    }
   ],
   "source": [
    "BobAsym.decrypt(AliceAsym.encrypt(Q))"
   ]
  },
  {
   "cell_type": "code",
   "execution_count": 6,
   "metadata": {
    "collapsed": true
   },
   "outputs": [],
   "source": [
    "keyExchangeMessage = {'Recipient': 'Bob', 'symmetric_key': AliceAsym.encrypt('Sixteen byte key'),'timestamp':time.time()}"
   ]
  },
  {
   "cell_type": "code",
   "execution_count": 7,
   "metadata": {
    "collapsed": false
   },
   "outputs": [],
   "source": [
    "keyExchangeStr = json.dumps(keyExchangeMessage)"
   ]
  },
  {
   "cell_type": "code",
   "execution_count": 8,
   "metadata": {
    "collapsed": false
   },
   "outputs": [],
   "source": [
    "SignedMessage = {'message': keyExchangeStr, 'signature': AliceAsym.sign(keyExchangeStr)}"
   ]
  },
  {
   "cell_type": "code",
   "execution_count": 9,
   "metadata": {
    "collapsed": false
   },
   "outputs": [
    {
     "data": {
      "text/plain": [
       "{'message': '{\"symmetric_key\": \"V3h9e8yBUvJ+Um3Gqcov5Roteq5jsUTgHOCP6lKGUCinJS/M01lcloMO2POuHT2Lw6OeWOv1UIfZsQQW4MY39YXfaOjsilgid5bHfwHKAokdOKzLyj2T15WOnosHU6pG8aswmIix5xBfiF1LboNfimHmnUgpUlh7YJnkWn79MiTdYcG2HN+bVY3Oi9tnqplRvkBhQKKaFWKsHRA9/pTpPe5N4y5QZ2CigBhKKItZRnGiwccojy6fxb1tewwKtHeK6//oxfmx05SUq+j1EeS85KT5NooHWVqmq83cQbU2NVwyf+nDcYj4iWjfa4oV4rbkeBjSQS/bhv7abc+PHHADiw==\", \"Recipient\": \"Bob\", \"timestamp\": 1457378391.806157}',\n",
       " 'signature': 'GWN0Ro/3JJKPcgBgVVqnmftcOjcpupEo4ZkjaffbY8SdGhD6Z/IPfu5cR2m+JA6NEJq5Dp3dX/+y0Bv8ptykZsQpE4bMe1aGOT+A80qIEQya0N7Bnzh6/EVxpu5Y9x2w5D9MR/BD9TMXVrXbfWTjgxbyccDOqY6gRoB+9Aq2RDk3gEfVcn0CUjRk3FylwGSNK6CtxJr+ZSZtnrI5hP4gcq1KwrZY5L+vSACLtzANlFKNsEQv9iuwjk4ClkoDtouWMR8Kp00b8LP+2UNr0jCGIrg3usyidxvt7YHod2ShN4QH3+/GGAt2sBRb0yBenkR/2ydIVCGLaSffi8ushgq4TA=='}"
      ]
     },
     "execution_count": 9,
     "metadata": {},
     "output_type": "execute_result"
    }
   ],
   "source": [
    "SignedMessage"
   ]
  },
  {
   "cell_type": "code",
   "execution_count": 10,
   "metadata": {
    "collapsed": false
   },
   "outputs": [
    {
     "data": {
      "text/plain": [
       "True"
      ]
     },
     "execution_count": 10,
     "metadata": {},
     "output_type": "execute_result"
    }
   ],
   "source": [
    "BobAsym.verify(SignedMessage['message'],SignedMessage['signature'])"
   ]
  },
  {
   "cell_type": "code",
   "execution_count": 11,
   "metadata": {
    "collapsed": false
   },
   "outputs": [],
   "source": [
    "keyDict = json.loads(SignedMessage['message'])"
   ]
  },
  {
   "cell_type": "code",
   "execution_count": 12,
   "metadata": {
    "collapsed": false
   },
   "outputs": [
    {
     "data": {
      "text/plain": [
       "{u'Recipient': u'Bob',\n",
       " u'symmetric_key': u'V3h9e8yBUvJ+Um3Gqcov5Roteq5jsUTgHOCP6lKGUCinJS/M01lcloMO2POuHT2Lw6OeWOv1UIfZsQQW4MY39YXfaOjsilgid5bHfwHKAokdOKzLyj2T15WOnosHU6pG8aswmIix5xBfiF1LboNfimHmnUgpUlh7YJnkWn79MiTdYcG2HN+bVY3Oi9tnqplRvkBhQKKaFWKsHRA9/pTpPe5N4y5QZ2CigBhKKItZRnGiwccojy6fxb1tewwKtHeK6//oxfmx05SUq+j1EeS85KT5NooHWVqmq83cQbU2NVwyf+nDcYj4iWjfa4oV4rbkeBjSQS/bhv7abc+PHHADiw==',\n",
       " u'timestamp': 1457378391.806157}"
      ]
     },
     "execution_count": 12,
     "metadata": {},
     "output_type": "execute_result"
    }
   ],
   "source": [
    "keyDict"
   ]
  },
  {
   "cell_type": "code",
   "execution_count": 13,
   "metadata": {
    "collapsed": false
   },
   "outputs": [
    {
     "data": {
      "text/plain": [
       "'Sixteen byte key'"
      ]
     },
     "execution_count": 13,
     "metadata": {},
     "output_type": "execute_result"
    }
   ],
   "source": [
    "BobAsym.decrypt(keyDict['symmetric_key'])"
   ]
  },
  {
   "cell_type": "code",
   "execution_count": 33,
   "metadata": {
    "collapsed": false
   },
   "outputs": [],
   "source": [
    "ciphertext = SymCrypt.encrypt('hello')"
   ]
  },
  {
   "cell_type": "code",
   "execution_count": 34,
   "metadata": {
    "collapsed": false
   },
   "outputs": [],
   "source": [
    "plaintext = SymCrypt.decrypt(ciphertext)"
   ]
  },
  {
   "cell_type": "code",
   "execution_count": 35,
   "metadata": {
    "collapsed": false
   },
   "outputs": [
    {
     "data": {
      "text/plain": [
       "'hello'"
      ]
     },
     "execution_count": 35,
     "metadata": {},
     "output_type": "execute_result"
    }
   ],
   "source": [
    "plaintext"
   ]
  },
  {
   "cell_type": "code",
   "execution_count": 20,
   "metadata": {
    "collapsed": false
   },
   "outputs": [
    {
     "data": {
      "text/plain": [
       "{'message': '{\"symmetric_key\": \"V3h9e8yBUvJ+Um3Gqcov5Roteq5jsUTgHOCP6lKGUCinJS/M01lcloMO2POuHT2Lw6OeWOv1UIfZsQQW4MY39YXfaOjsilgid5bHfwHKAokdOKzLyj2T15WOnosHU6pG8aswmIix5xBfiF1LboNfimHmnUgpUlh7YJnkWn79MiTdYcG2HN+bVY3Oi9tnqplRvkBhQKKaFWKsHRA9/pTpPe5N4y5QZ2CigBhKKItZRnGiwccojy6fxb1tewwKtHeK6//oxfmx05SUq+j1EeS85KT5NooHWVqmq83cQbU2NVwyf+nDcYj4iWjfa4oV4rbkeBjSQS/bhv7abc+PHHADiw==\", \"Recipient\": \"Bob\", \"timestamp\": 1457378391.806157}',\n",
       " 'signature': 'GWN0Ro/3JJKPcgBgVVqnmftcOjcpupEo4ZkjaffbY8SdGhD6Z/IPfu5cR2m+JA6NEJq5Dp3dX/+y0Bv8ptykZsQpE4bMe1aGOT+A80qIEQya0N7Bnzh6/EVxpu5Y9x2w5D9MR/BD9TMXVrXbfWTjgxbyccDOqY6gRoB+9Aq2RDk3gEfVcn0CUjRk3FylwGSNK6CtxJr+ZSZtnrI5hP4gcq1KwrZY5L+vSACLtzANlFKNsEQv9iuwjk4ClkoDtouWMR8Kp00b8LP+2UNr0jCGIrg3usyidxvt7YHod2ShN4QH3+/GGAt2sBRb0yBenkR/2ydIVCGLaSffi8ushgq4TA=='}"
      ]
     },
     "execution_count": 20,
     "metadata": {},
     "output_type": "execute_result"
    }
   ],
   "source": [
    "SignedMessage['message_type'] = 'key_exchange'"
   ]
  },
  {
   "cell_type": "code",
   "execution_count": null,
   "metadata": {
    "collapsed": true
   },
   "outputs": [],
   "source": []
  }
 ],
 "metadata": {
  "kernelspec": {
   "display_name": "Python 2",
   "language": "python",
   "name": "python2"
  },
  "language_info": {
   "codemirror_mode": {
    "name": "ipython",
    "version": 2
   },
   "file_extension": ".py",
   "mimetype": "text/x-python",
   "name": "python",
   "nbconvert_exporter": "python",
   "pygments_lexer": "ipython2",
   "version": "2.7.11"
  }
 },
 "nbformat": 4,
 "nbformat_minor": 0
}
